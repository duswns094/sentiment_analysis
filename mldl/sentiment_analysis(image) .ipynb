{
 "cells": [
  {
   "cell_type": "code",
   "execution_count": 14,
   "id": "f2e090a5",
   "metadata": {},
   "outputs": [],
   "source": [
    "import matplotlib.pyplot as plt\n",
    "import numpy as np\n",
    "import os\n",
    "import PIL\n",
    "import tensorflow as tf\n",
    "\n",
    "from tensorflow.keras import datasets, utils\n",
    "from tensorflow import keras\n",
    "from tensorflow.keras import models, layers, activations, initializers, losses, optimizers, metrics\n",
    "from tensorflow.keras.models import Sequential"
   ]
  },
  {
   "cell_type": "code",
   "execution_count": 2,
   "id": "d7c1ffb0",
   "metadata": {},
   "outputs": [],
   "source": [
    "import pathlib\n",
    "\n",
    "emotion_root = pathlib.Path(\"D:/image\")"
   ]
  },
  {
   "cell_type": "code",
   "execution_count": 3,
   "id": "52875e94",
   "metadata": {},
   "outputs": [
    {
     "name": "stdout",
     "output_type": "stream",
     "text": [
      "negative\n",
      "neutral\n",
      "positive\n"
     ]
    }
   ],
   "source": [
    "for item in emotion_root.glob(\"*\"):\n",
    "    print(item.name)"
   ]
  },
  {
   "cell_type": "code",
   "execution_count": 4,
   "id": "8a2e7d8c",
   "metadata": {},
   "outputs": [],
   "source": [
    "# # 이미지 파일이름들의 리스트\n",
    "\n",
    "# list_ds = tf.data.Dataset.list_files(str(emotion_root/'*/*'))                                     "
   ]
  },
  {
   "cell_type": "code",
   "execution_count": 5,
   "id": "7876e1dd",
   "metadata": {},
   "outputs": [],
   "source": [
    "# 데이터 전처리 \n",
    "batch_size = 32\n",
    "img_height= 250\n",
    "img_width = 250"
   ]
  },
  {
   "cell_type": "code",
   "execution_count": 6,
   "id": "3db3b688",
   "metadata": {},
   "outputs": [
    {
     "name": "stdout",
     "output_type": "stream",
     "text": [
      "Found 12516 files belonging to 3 classes.\n",
      "Using 10013 files for training.\n",
      "Found 12516 files belonging to 3 classes.\n",
      "Using 2503 files for validation.\n"
     ]
    }
   ],
   "source": [
    "train_ds = tf.keras.preprocessing.image_dataset_from_directory(\n",
    "  emotion_root,\n",
    "  validation_split=0.2,\n",
    "  subset=\"training\",\n",
    "  seed=32,\n",
    "  image_size=(img_height, img_width),\n",
    "  batch_size=batch_size)\n",
    "\n",
    "#model.fit에서 적용할 변수\n",
    "val_ds = tf.keras.preprocessing.image_dataset_from_directory(\n",
    "  emotion_root,\n",
    "  validation_split=0.2,\n",
    "  subset=\"validation\",\n",
    "  seed=32,\n",
    "  image_size=(img_height, img_width),\n",
    "  batch_size=batch_size)"
   ]
  },
  {
   "cell_type": "code",
   "execution_count": 33,
   "id": "d9d4ec61",
   "metadata": {},
   "outputs": [],
   "source": [
    "#model - cnn에서는 dense 레이어를 쓰지 않음 \n",
    "model = models.Sequential()\n",
    "\n",
    "model.add(layers.experimental.preprocessing.Rescaling(1./255, input_shape=(img_height, img_width, 3)))\n",
    "\n",
    "model.add(layers.Conv2D(32, (3,3), padding='same'))\n",
    "model.add(layers.BatchNormalization())\n",
    "model.add(layers.Activation('relu'))\n",
    "\n",
    "model.add(layers.Conv2D(32, (3,3)))\n",
    "model.add(layers.BatchNormalization())\n",
    "model.add(layers.Activation('relu'))\n",
    "          \n",
    "model.add(layers.MaxPooling2D(pool_size=(2,2)))\n",
    "          \n",
    "model.add(layers.Conv2D(64, (3,3)))\n",
    "model.add(layers.BatchNormalization())\n",
    "model.add(layers.Activation('relu'))\n",
    "\n",
    "model.add(layers.Conv2D(64, (3,3)))\n",
    "model.add(layers.BatchNormalization())\n",
    "model.add(layers.Activation('relu'))\n",
    "          \n",
    "model.add(layers.MaxPooling2D(pool_size=(2,2)))\n",
    "\n",
    "#fully-connected network: 하나의 행으로 차원을 펼처쥼(보통 2개정도?)\n",
    "model.add(layers.Flatten())\n",
    "\n",
    "model.add(layers.Dense(128, activation=None))\n",
    "model.add(layers.BatchNormalization())\n",
    "model.add(layers.Activation('relu'))\n",
    "model.add(layers.Dropout(rate=0.3))\n",
    "          \n",
    "#outputlayer\n",
    "model.add(layers.Dense(3, activation='softmax'))"
   ]
  },
  {
   "cell_type": "code",
   "execution_count": 34,
   "id": "c612826c",
   "metadata": {},
   "outputs": [],
   "source": [
    "model.compile(optimizer='adam',\n",
    "              # 성능의 차이가 있으므로 원핫인코딩하고 categorical_crossentropy가 낫다\n",
    "              loss=tf.keras.losses.SparseCategoricalCrossentropy(from_logits=True),# \n",
    "              metrics=['accuracy'])"
   ]
  },
  {
   "cell_type": "code",
   "execution_count": 35,
   "id": "96e088e4",
   "metadata": {},
   "outputs": [
    {
     "name": "stdout",
     "output_type": "stream",
     "text": [
      "Model: \"sequential_2\"\n",
      "_________________________________________________________________\n",
      "Layer (type)                 Output Shape              Param #   \n",
      "=================================================================\n",
      "rescaling_2 (Rescaling)      (None, 250, 250, 3)       0         \n",
      "_________________________________________________________________\n",
      "conv2d_8 (Conv2D)            (None, 250, 250, 32)      896       \n",
      "_________________________________________________________________\n",
      "batch_normalization_10 (Batc (None, 250, 250, 32)      128       \n",
      "_________________________________________________________________\n",
      "activation_10 (Activation)   (None, 250, 250, 32)      0         \n",
      "_________________________________________________________________\n",
      "conv2d_9 (Conv2D)            (None, 248, 248, 32)      9248      \n",
      "_________________________________________________________________\n",
      "batch_normalization_11 (Batc (None, 248, 248, 32)      128       \n",
      "_________________________________________________________________\n",
      "activation_11 (Activation)   (None, 248, 248, 32)      0         \n",
      "_________________________________________________________________\n",
      "max_pooling2d_4 (MaxPooling2 (None, 124, 124, 32)      0         \n",
      "_________________________________________________________________\n",
      "conv2d_10 (Conv2D)           (None, 122, 122, 64)      18496     \n",
      "_________________________________________________________________\n",
      "batch_normalization_12 (Batc (None, 122, 122, 64)      256       \n",
      "_________________________________________________________________\n",
      "activation_12 (Activation)   (None, 122, 122, 64)      0         \n",
      "_________________________________________________________________\n",
      "conv2d_11 (Conv2D)           (None, 120, 120, 64)      36928     \n",
      "_________________________________________________________________\n",
      "batch_normalization_13 (Batc (None, 120, 120, 64)      256       \n",
      "_________________________________________________________________\n",
      "activation_13 (Activation)   (None, 120, 120, 64)      0         \n",
      "_________________________________________________________________\n",
      "max_pooling2d_5 (MaxPooling2 (None, 60, 60, 64)        0         \n",
      "_________________________________________________________________\n",
      "flatten_2 (Flatten)          (None, 230400)            0         \n",
      "_________________________________________________________________\n",
      "dense_4 (Dense)              (None, 128)               29491328  \n",
      "_________________________________________________________________\n",
      "batch_normalization_14 (Batc (None, 128)               512       \n",
      "_________________________________________________________________\n",
      "activation_14 (Activation)   (None, 128)               0         \n",
      "_________________________________________________________________\n",
      "dropout_2 (Dropout)          (None, 128)               0         \n",
      "_________________________________________________________________\n",
      "dense_5 (Dense)              (None, 3)                 387       \n",
      "=================================================================\n",
      "Total params: 29,558,563\n",
      "Trainable params: 29,557,923\n",
      "Non-trainable params: 640\n",
      "_________________________________________________________________\n"
     ]
    }
   ],
   "source": [
    "model.summary()"
   ]
  },
  {
   "cell_type": "code",
   "execution_count": 36,
   "id": "2aa70ffc",
   "metadata": {},
   "outputs": [
    {
     "name": "stdout",
     "output_type": "stream",
     "text": [
      "Epoch 1/10\n",
      "313/313 [==============================] - 1528s 5s/step - loss: 0.9408 - accuracy: 0.6368 - val_loss: 0.8885 - val_accuracy: 0.6432\n",
      "Epoch 2/10\n",
      "313/313 [==============================] - 7312s 23s/step - loss: 0.8732 - accuracy: 0.6555 - val_loss: 0.8958 - val_accuracy: 0.6460\n",
      "Epoch 3/10\n",
      "313/313 [==============================] - 8849s 28s/step - loss: 0.8404 - accuracy: 0.6603 - val_loss: 0.8949 - val_accuracy: 0.6476\n",
      "Epoch 4/10\n",
      "313/313 [==============================] - 3905s 12s/step - loss: 0.8154 - accuracy: 0.6665 - val_loss: 0.9079 - val_accuracy: 0.6053\n",
      "Epoch 5/10\n",
      "313/313 [==============================] - 2286s 7s/step - loss: 0.7748 - accuracy: 0.6821 - val_loss: 0.9289 - val_accuracy: 0.5941\n",
      "Epoch 6/10\n",
      "313/313 [==============================] - 1866s 6s/step - loss: 0.7087 - accuracy: 0.7138 - val_loss: 1.0492 - val_accuracy: 0.5625\n",
      "Epoch 7/10\n",
      "313/313 [==============================] - 2244s 7s/step - loss: 0.5862 - accuracy: 0.7700 - val_loss: 1.1665 - val_accuracy: 0.5869\n",
      "Epoch 8/10\n",
      "313/313 [==============================] - 1881s 6s/step - loss: 0.4412 - accuracy: 0.8328 - val_loss: 1.2716 - val_accuracy: 0.5857\n",
      "Epoch 9/10\n",
      "313/313 [==============================] - 2087s 7s/step - loss: 0.3004 - accuracy: 0.8913 - val_loss: 1.5800 - val_accuracy: 0.5861\n",
      "Epoch 10/10\n",
      "313/313 [==============================] - 1334s 4s/step - loss: 0.2076 - accuracy: 0.9301 - val_loss: 1.5750 - val_accuracy: 0.5274\n"
     ]
    }
   ],
   "source": [
    "# early-stopping필요 \n",
    "epochs=10\n",
    "history = model.fit(\n",
    "  train_ds,\n",
    "  # batch_size 디폴트가 32\n",
    "  validation_data=val_ds,\n",
    "  epochs=epochs\n",
    ")"
   ]
  },
  {
   "cell_type": "code",
   "execution_count": 37,
   "id": "1633cb62",
   "metadata": {},
   "outputs": [
    {
     "data": {
      "image/png": "[encoded data removed]",
      "text/plain": [
       "<Figure size 576x576 with 2 Axes>"
      ]
     },
     "metadata": {
      "needs_background": "light"
     },
     "output_type": "display_data"
    }
   ],
   "source": [
    "acc = history.history['accuracy']\n",
    "val_acc = history.history['val_accuracy']\n",
    "\n",
    "loss=history.history['loss']\n",
    "val_loss=history.history['val_loss']\n",
    "\n",
    "# 시각화 x축\n",
    "epochs_range = range(epochs)\n",
    "\n",
    "plt.figure(figsize=(8, 8))\n",
    "plt.subplot(1, 2, 1)\n",
    "plt.plot(epochs_range, acc, label='Training Accuracy')\n",
    "plt.plot(epochs_range, val_acc, label='Validation Accuracy')\n",
    "plt.legend(loc='lower right')\n",
    "plt.title('Training and Validation Accuracy')\n",
    "\n",
    "plt.subplot(1, 2, 2)\n",
    "plt.plot(epochs_range, loss, label='Training Loss')\n",
    "plt.plot(epochs_range, val_loss, label='Validation Loss')\n",
    "plt.legend(loc='upper right')\n",
    "plt.title('Training and Validation Loss')\n",
    "plt.show()"
   ]
  },
  {
   "cell_type": "code",
   "execution_count": null,
   "id": "fd282952",
   "metadata": {},
   "outputs": [],
   "source": []
  }
 ],
 "metadata": {
  "kernelspec": {
   "display_name": "Python 3",
   "language": "python",
   "name": "python3"
  },
  "language_info": {
   "codemirror_mode": {
    "name": "ipython",
    "version": 3
   },
   "file_extension": ".py",
   "mimetype": "text/x-python",
   "name": "python",
   "nbconvert_exporter": "python",
   "pygments_lexer": "ipython3",
   "version": "3.8.8"
  }
 },
 "nbformat": 4,
 "nbformat_minor": 5
}
