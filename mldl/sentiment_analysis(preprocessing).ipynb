{
  "cells": [
    {
      "cell_type": "code",
      "execution_count": null,
      "id": "0ae56eb2",
      "metadata": {
        "id": "0ae56eb2"
      },
      "outputs": [],
      "source": [
        "import time\n",
        "import pandas as pd\n",
        "import numpy as np\n",
        "import datetime\n",
        "import warnings\n",
        "warnings.filterwarnings(\"ignore\")\n",
        "import re\n",
        "from glob import glob\n",
        "from tqdm import tqdm\n",
        "from wordcloud import WordCloud \n",
        "# get_ipython().run_line_magic('matplotlib', 'inline')\n",
        "from matplotlib import font_manager, rc\n",
        "import platform\n",
        "import seaborn as sns\n",
        "import matplotlib\n",
        "import matplotlib.pyplot as plt\n",
        "from konlpy.tag import Okt\n",
        "from collections import Counter\n",
        "import missingno"
      ]
    },
    {
      "cell_type": "markdown",
      "id": "51e1ca37",
      "metadata": {
        "id": "51e1ca37"
      },
      "source": [
        "# 데이터 로드 및 병합\n",
        "\n",
        "여러가지 자연어 감성 라벨링 데이터를 불러와 동일한 형태의 데이터 프레임으로 변환해준 뒤 하나의 데이터프레임으로 병합\n",
        "\n",
        "부정 = 0\n",
        "긍정 = 1\n",
        "중립 = 2\n",
        "\n",
        "으로 감성 라벨링 된 열로 통일"
      ]
    },
    {
      "cell_type": "code",
      "execution_count": null,
      "id": "bfdedee6",
      "metadata": {
        "id": "bfdedee6"
      },
      "outputs": [],
      "source": [
        "# 한글 폰트 위치를 넣어주세요 (위에서 나눔고딕 파일을 해당 경로에 복사붙여넣기 했을 경우 그대로 실행하셔도 무방합니다.)\n",
        "font_name = matplotlib.font_manager.FontProperties(fname=\"C:/Windows/Fonts/malgun.ttf\").get_name() # NanumGothic.otf\n",
        "matplotlib.rc('font', family=font_name)"
      ]
    },
    {
      "cell_type": "code",
      "execution_count": null,
      "id": "6b9c2234",
      "metadata": {
        "id": "6b9c2234"
      },
      "outputs": [],
      "source": [
        "# 영화 리뷰 불러오기 - 긍/부정 = 1/0\n",
        "movie_df = pd.read_csv('./ratings.txt',sep = \"\\t\", engine='python')\n",
        "# 네이버 쇼핑 리뷰 불러오기 - rating(0~5의 별점으로 표기)\n",
        "shopping_df = pd.read_table('naver_shopping.txt', names=['ratings', 'reviews'])\n",
        "# Steam 게임 리뷰 불러오기 - 긍/부정 = 1/0\n",
        "steam_df = pd.read_table('steam.txt', names=['label', 'reviews'])\n",
        "# # 트위터 영어 번역본 불러오기\n",
        "# twitter_df_test = pd.read_excel('./test번역.xlsx')\n",
        "# twitter_df_train = pd.read_excel('./training번역.xlsx')\n",
        "# twitter_df = pd.concat([twitter_df_test,twitter_df_train],axis=0)\n",
        "# 일반 대화 데이터셋 - 7개의 감정 (중립, 놀람, 분노, 슬픔, 행복, 혐오, 공포)\n",
        "sin_dialog_df = pd.read_excel('./한국어_단발성_대화_데이터셋.xlsx',usecols=[0, 1])\n",
        "con_dialog_df = pd.read_excel('./한국어_연속적_대화_데이터셋.xlsx',usecols=[0, 1])\n",
        "dialog_df = pd.concat([sin_dialog_df,con_dialog_df],axis=0)\n",
        "# 욕설 데이터 셋 - 욕설 포함시 레이블 1 \n",
        "curse_df = pd.read_csv('./curse.txt',sep = \"|\",names=['content', 'label'])\n",
        "# curse_df 잘못된 행 삭제 및 label을 int 타입으로 변경\n",
        "curse_df = curse_df.drop([455])\n",
        "curse_df['label']= curse_df['label'].astype(int)\n",
        "# 챗봇 데이터 셋 - 일상다반사 0, 이별(부정) 1, 사랑(긍정) 2로 레이블링\n",
        "chatbot_df = pd.read_csv('./ChatbotData.txt',sep=',',usecols=[0,2])"
      ]
    },
    {
      "cell_type": "code",
      "execution_count": null,
      "id": "b092d22e",
      "metadata": {
        "id": "b092d22e"
      },
      "outputs": [],
      "source": [
        "def emotion_to_label(emotion):\n",
        "    if emotion == '중립' or emotion == '놀람':\n",
        "        return 2\n",
        "    elif emotion =='행복':\n",
        "        return 1\n",
        "    else:\n",
        "        return 0\n",
        "    \n",
        "def rating_to_label(rating):\n",
        "    if rating ==3:\n",
        "        return 2\n",
        "    elif rating >3:\n",
        "        return 1\n",
        "    else:\n",
        "        return 0\n",
        "    \n",
        "def curse_to_label(curse):\n",
        "    if curse == 1:\n",
        "        return 0\n",
        "    else:\n",
        "        return 2\n",
        "\n",
        "def chatbot_to_label(label):\n",
        "    if label== 0:\n",
        "        return 2\n",
        "    elif label ==1:\n",
        "        return 0\n",
        "    else: \n",
        "        return 1"
      ]
    },
    {
      "cell_type": "code",
      "execution_count": null,
      "id": "3ebb3bac",
      "metadata": {
        "id": "3ebb3bac"
      },
      "outputs": [],
      "source": [
        "# 감정을 부정/긍정/중립 = 0/1/2 로 구분\n",
        "dialog_df['label'] = dialog_df['Emotion'].apply(emotion_to_label)\n",
        "# 평점을 부정/긍정/중립 = 0/1/2 로 구분\n",
        "shopping_df['label'] = shopping_df['ratings'].apply(rating_to_label)\n",
        "# 욕설 포함시 부정, 미포함시 중립 으로 변경\n",
        "curse_df['label'] = curse_df['label'].apply(curse_to_label)\n",
        "# 사랑(긍정) 은 긍정(1), 이벌(부정) 은 부정(0), 일상다반사는 중립(2) 으로 변경\n",
        "chatbot_df['label'] = chatbot_df['label'].apply(chatbot_to_label)\n"
      ]
    },
    {
      "cell_type": "code",
      "execution_count": null,
      "id": "f5bb15b8",
      "metadata": {
        "id": "f5bb15b8"
      },
      "outputs": [],
      "source": [
        "# movie_df, shopping_df, dialog_df는 label 열과 문장열만 남긴다\n",
        "movie_df= movie_df.drop('id',axis=1)\n",
        "shopping_df =shopping_df.drop('ratings',axis=1)\n",
        "dialog_df= dialog_df.drop('Emotion',axis=1)\n",
        "# steam df는 열 순서를 변경해준다\n",
        "steam_df= steam_df[['reviews','label']]\n"
      ]
    },
    {
      "cell_type": "code",
      "execution_count": null,
      "id": "1af81a7c",
      "metadata": {
        "id": "1af81a7c"
      },
      "outputs": [],
      "source": [
        "# 컬럼명 통일해주기\n",
        "movie_df.columns =['sentence','label']\n",
        "shopping_df.columns =['sentence','label']\n",
        "dialog_df.columns =['sentence','label']\n",
        "steam_df.columns =['sentence','label']\n",
        "curse_df.columns =['sentence','label']\n",
        "chatbot_df.columns =['sentence','label']"
      ]
    },
    {
      "cell_type": "code",
      "execution_count": null,
      "id": "90b7cefd",
      "metadata": {
        "id": "90b7cefd"
      },
      "outputs": [],
      "source": [
        "data_df = pd.concat([movie_df,shopping_df,dialog_df,steam_df,curse_df,chatbot_df],ignore_index=True,)"
      ]
    },
    {
      "cell_type": "code",
      "execution_count": null,
      "id": "d9acc750",
      "metadata": {
        "id": "d9acc750"
      },
      "outputs": [],
      "source": [
        "# 결측치 제거 및 인덱스 재정렬\n",
        "data_df = data_df.dropna().reset_index().drop('index',axis=1)\n",
        "# 중복행 제거\n",
        "data_df = data_df.drop_duplicates(['sentence'])"
      ]
    },
    {
      "cell_type": "code",
      "execution_count": null,
      "id": "f63d5738",
      "metadata": {
        "id": "f63d5738",
        "outputId": "768973d4-73eb-4069-8e9f-e3c505dad257"
      },
      "outputs": [
        {
          "data": {
            "text/html": [
              "<div>\n",
              "<style scoped>\n",
              "    .dataframe tbody tr th:only-of-type {\n",
              "        vertical-align: middle;\n",
              "    }\n",
              "\n",
              "    .dataframe tbody tr th {\n",
              "        vertical-align: top;\n",
              "    }\n",
              "\n",
              "    .dataframe thead th {\n",
              "        text-align: right;\n",
              "    }\n",
              "</style>\n",
              "<table border=\"1\" class=\"dataframe\">\n",
              "  <thead>\n",
              "    <tr style=\"text-align: right;\">\n",
              "      <th></th>\n",
              "      <th>sentence</th>\n",
              "      <th>label</th>\n",
              "    </tr>\n",
              "  </thead>\n",
              "  <tbody>\n",
              "    <tr>\n",
              "      <th>0</th>\n",
              "      <td>어릴때보고 지금다시봐도 재밌어요ㅋㅋ</td>\n",
              "      <td>1</td>\n",
              "    </tr>\n",
              "    <tr>\n",
              "      <th>1</th>\n",
              "      <td>디자인을 배우는 학생으로, 외국디자이너와 그들이 일군 전통을 통해 발전해가는 문화산...</td>\n",
              "      <td>1</td>\n",
              "    </tr>\n",
              "    <tr>\n",
              "      <th>2</th>\n",
              "      <td>폴리스스토리 시리즈는 1부터 뉴까지 버릴께 하나도 없음.. 최고.</td>\n",
              "      <td>1</td>\n",
              "    </tr>\n",
              "    <tr>\n",
              "      <th>3</th>\n",
              "      <td>와.. 연기가 진짜 개쩔구나.. 지루할거라고 생각했는데 몰입해서 봤다.. 그래 이런...</td>\n",
              "      <td>1</td>\n",
              "    </tr>\n",
              "    <tr>\n",
              "      <th>4</th>\n",
              "      <td>안개 자욱한 밤하늘에 떠 있는 초승달 같은 영화.</td>\n",
              "      <td>1</td>\n",
              "    </tr>\n",
              "    <tr>\n",
              "      <th>...</th>\n",
              "      <td>...</td>\n",
              "      <td>...</td>\n",
              "    </tr>\n",
              "    <tr>\n",
              "      <th>611854</th>\n",
              "      <td>후회 없이 사랑하고 싶어</td>\n",
              "      <td>1</td>\n",
              "    </tr>\n",
              "    <tr>\n",
              "      <th>611855</th>\n",
              "      <td>훔쳐보는 것도 눈치 보임.</td>\n",
              "      <td>1</td>\n",
              "    </tr>\n",
              "    <tr>\n",
              "      <th>611857</th>\n",
              "      <td>흑기사 해주는 짝남.</td>\n",
              "      <td>1</td>\n",
              "    </tr>\n",
              "    <tr>\n",
              "      <th>611858</th>\n",
              "      <td>힘든 연애 좋은 연애라는게 무슨 차이일까?</td>\n",
              "      <td>1</td>\n",
              "    </tr>\n",
              "    <tr>\n",
              "      <th>611859</th>\n",
              "      <td>힘들어서 결혼할까봐</td>\n",
              "      <td>1</td>\n",
              "    </tr>\n",
              "  </tbody>\n",
              "</table>\n",
              "<p>600979 rows × 2 columns</p>\n",
              "</div>"
            ],
            "text/plain": [
              "                                                 sentence  label\n",
              "0                                     어릴때보고 지금다시봐도 재밌어요ㅋㅋ      1\n",
              "1       디자인을 배우는 학생으로, 외국디자이너와 그들이 일군 전통을 통해 발전해가는 문화산...      1\n",
              "2                    폴리스스토리 시리즈는 1부터 뉴까지 버릴께 하나도 없음.. 최고.      1\n",
              "3       와.. 연기가 진짜 개쩔구나.. 지루할거라고 생각했는데 몰입해서 봤다.. 그래 이런...      1\n",
              "4                             안개 자욱한 밤하늘에 떠 있는 초승달 같은 영화.      1\n",
              "...                                                   ...    ...\n",
              "611854                                      후회 없이 사랑하고 싶어      1\n",
              "611855                                     훔쳐보는 것도 눈치 보임.      1\n",
              "611857                                        흑기사 해주는 짝남.      1\n",
              "611858                            힘든 연애 좋은 연애라는게 무슨 차이일까?      1\n",
              "611859                                         힘들어서 결혼할까봐      1\n",
              "\n",
              "[600979 rows x 2 columns]"
            ]
          },
          "execution_count": 266,
          "metadata": {},
          "output_type": "execute_result"
        }
      ],
      "source": [
        "data_df"
      ]
    },
    {
      "cell_type": "code",
      "execution_count": null,
      "id": "e5e6889f",
      "metadata": {
        "id": "e5e6889f",
        "outputId": "923c54b5-0cb2-4152-e3f4-ddcd2176955a"
      },
      "outputs": [
        {
          "data": {
            "text/plain": [
              "0    279932\n",
              "1    256875\n",
              "2     64172\n",
              "Name: label, dtype: int64"
            ]
          },
          "execution_count": 267,
          "metadata": {},
          "output_type": "execute_result"
        }
      ],
      "source": [
        "# 부정/긍정/중립 개수\n",
        "data_df['label'].value_counts()"
      ]
    },
    {
      "cell_type": "code",
      "execution_count": null,
      "id": "3be7ad90",
      "metadata": {
        "id": "3be7ad90"
      },
      "outputs": [],
      "source": [
        "data_df.to_csv('./data_df.csv')"
      ]
    }
  ],
  "metadata": {
    "kernelspec": {
      "display_name": "Python 3",
      "language": "python",
      "name": "python3"
    },
    "language_info": {
      "codemirror_mode": {
        "name": "ipython",
        "version": 3
      },
      "file_extension": ".py",
      "mimetype": "text/x-python",
      "name": "python",
      "nbconvert_exporter": "python",
      "pygments_lexer": "ipython3",
      "version": "3.8.8"
    },
    "colab": {
      "name": "sentiment_analysis(preprocessing).ipynb",
      "provenance": [],
      "collapsed_sections": []
    }
  },
  "nbformat": 4,
  "nbformat_minor": 5
}