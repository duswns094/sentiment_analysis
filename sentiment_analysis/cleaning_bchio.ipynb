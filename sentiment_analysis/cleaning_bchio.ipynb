{
 "cells": [
  {
   "cell_type": "markdown",
   "id": "5e037608",
   "metadata": {},
   "source": [
    "### 이미지 다운로드 전처리 ###"
   ]
  },
  {
   "cell_type": "code",
   "execution_count": 1,
   "id": "20e523b5",
   "metadata": {},
   "outputs": [],
   "source": [
    "import pandas as pd"
   ]
  },
  {
   "cell_type": "code",
   "execution_count": 2,
   "id": "c68b010c",
   "metadata": {},
   "outputs": [
    {
     "data": {
      "text/html": [
       "<div>\n",
       "<style scoped>\n",
       "    .dataframe tbody tr th:only-of-type {\n",
       "        vertical-align: middle;\n",
       "    }\n",
       "\n",
       "    .dataframe tbody tr th {\n",
       "        vertical-align: top;\n",
       "    }\n",
       "\n",
       "    .dataframe thead th {\n",
       "        text-align: right;\n",
       "    }\n",
       "</style>\n",
       "<table border=\"1\" class=\"dataframe\">\n",
       "  <thead>\n",
       "    <tr style=\"text-align: right;\">\n",
       "      <th></th>\n",
       "      <th>_unit_id</th>\n",
       "      <th>_golden</th>\n",
       "      <th>_unit_state</th>\n",
       "      <th>_trusted_judgments</th>\n",
       "      <th>_last_judgment_at</th>\n",
       "      <th>which_of_these_sentiment_scores_does_the_above_image_fit_into_best</th>\n",
       "      <th>which_of_these_sentiment_scores_does_the_above_image_fit_into_best:confidence</th>\n",
       "      <th>imageurl</th>\n",
       "      <th>which_of_these_sentiment_scores_does_the_above_image_fit_into_best_gold</th>\n",
       "      <th>which_of_these_sentiment_scores_does_the_above_image_fit_into_best_gold_reason</th>\n",
       "    </tr>\n",
       "  </thead>\n",
       "  <tbody>\n",
       "    <tr>\n",
       "      <th>0</th>\n",
       "      <td>694550568</td>\n",
       "      <td>True</td>\n",
       "      <td>golden</td>\n",
       "      <td>47</td>\n",
       "      <td>NaN</td>\n",
       "      <td>Positive</td>\n",
       "      <td>0.6395</td>\n",
       "      <td>http://farm1.staticflickr.com/20/71235476_3103...</td>\n",
       "      <td>Highly positive\\nPositive</td>\n",
       "      <td>He is smiling. =&gt; happy, joy</td>\n",
       "    </tr>\n",
       "    <tr>\n",
       "      <th>1</th>\n",
       "      <td>694550569</td>\n",
       "      <td>True</td>\n",
       "      <td>golden</td>\n",
       "      <td>36</td>\n",
       "      <td>NaN</td>\n",
       "      <td>Positive</td>\n",
       "      <td>0.6458</td>\n",
       "      <td>http://farm4.staticflickr.com/3096/2584485524_...</td>\n",
       "      <td>Highly positive\\nPositive</td>\n",
       "      <td>A beautiful scenery. =&gt; serenity</td>\n",
       "    </tr>\n",
       "    <tr>\n",
       "      <th>2</th>\n",
       "      <td>694550570</td>\n",
       "      <td>True</td>\n",
       "      <td>golden</td>\n",
       "      <td>35</td>\n",
       "      <td>NaN</td>\n",
       "      <td>Negative</td>\n",
       "      <td>0.8420</td>\n",
       "      <td>http://farm3.staticflickr.com/2880/11733997835...</td>\n",
       "      <td>Negative\\nHighly negative</td>\n",
       "      <td>They look serious. =&gt; sadness, fear</td>\n",
       "    </tr>\n",
       "    <tr>\n",
       "      <th>3</th>\n",
       "      <td>694550571</td>\n",
       "      <td>True</td>\n",
       "      <td>golden</td>\n",
       "      <td>41</td>\n",
       "      <td>NaN</td>\n",
       "      <td>Positive</td>\n",
       "      <td>0.7216</td>\n",
       "      <td>http://farm4.staticflickr.com/3022/2286937150_...</td>\n",
       "      <td>Highly positive\\nPositive</td>\n",
       "      <td>A cute puppy. =&gt; happy, joy</td>\n",
       "    </tr>\n",
       "    <tr>\n",
       "      <th>4</th>\n",
       "      <td>694550572</td>\n",
       "      <td>True</td>\n",
       "      <td>golden</td>\n",
       "      <td>46</td>\n",
       "      <td>NaN</td>\n",
       "      <td>Positive</td>\n",
       "      <td>0.8801</td>\n",
       "      <td>http://farm1.staticflickr.com/163/357381033_d0...</td>\n",
       "      <td>Highly positive\\nPositive</td>\n",
       "      <td>She looks fun. =&gt; fun, joy, happy</td>\n",
       "    </tr>\n",
       "  </tbody>\n",
       "</table>\n",
       "</div>"
      ],
      "text/plain": [
       "    _unit_id  _golden _unit_state  _trusted_judgments _last_judgment_at  \\\n",
       "0  694550568     True      golden                  47               NaN   \n",
       "1  694550569     True      golden                  36               NaN   \n",
       "2  694550570     True      golden                  35               NaN   \n",
       "3  694550571     True      golden                  41               NaN   \n",
       "4  694550572     True      golden                  46               NaN   \n",
       "\n",
       "  which_of_these_sentiment_scores_does_the_above_image_fit_into_best  \\\n",
       "0                                           Positive                   \n",
       "1                                           Positive                   \n",
       "2                                           Negative                   \n",
       "3                                           Positive                   \n",
       "4                                           Positive                   \n",
       "\n",
       "   which_of_these_sentiment_scores_does_the_above_image_fit_into_best:confidence  \\\n",
       "0                                             0.6395                               \n",
       "1                                             0.6458                               \n",
       "2                                             0.8420                               \n",
       "3                                             0.7216                               \n",
       "4                                             0.8801                               \n",
       "\n",
       "                                            imageurl  \\\n",
       "0  http://farm1.staticflickr.com/20/71235476_3103...   \n",
       "1  http://farm4.staticflickr.com/3096/2584485524_...   \n",
       "2  http://farm3.staticflickr.com/2880/11733997835...   \n",
       "3  http://farm4.staticflickr.com/3022/2286937150_...   \n",
       "4  http://farm1.staticflickr.com/163/357381033_d0...   \n",
       "\n",
       "  which_of_these_sentiment_scores_does_the_above_image_fit_into_best_gold  \\\n",
       "0                          Highly positive\\nPositive                        \n",
       "1                          Highly positive\\nPositive                        \n",
       "2                          Negative\\nHighly negative                        \n",
       "3                          Highly positive\\nPositive                        \n",
       "4                          Highly positive\\nPositive                        \n",
       "\n",
       "  which_of_these_sentiment_scores_does_the_above_image_fit_into_best_gold_reason  \n",
       "0                       He is smiling. => happy, joy                              \n",
       "1                   A beautiful scenery. => serenity                              \n",
       "2                They look serious. => sadness, fear                              \n",
       "3                        A cute puppy. => happy, joy                              \n",
       "4                  She looks fun. => fun, joy, happy                              "
      ]
     },
     "execution_count": 2,
     "metadata": {},
     "output_type": "execute_result"
    }
   ],
   "source": [
    "#train = pd.read_csv('./data/image-Sentiment-polarity-DFE.csv')\n",
    "image_Senti = pd.read_csv('image-Sentiment-polarity-DFE.csv')\n",
    "image_Senti.head()"
   ]
  },
  {
   "cell_type": "code",
   "execution_count": 3,
   "id": "14e7dcbe",
   "metadata": {},
   "outputs": [
    {
     "data": {
      "text/plain": [
       "_unit_id                                                                              0\n",
       "_golden                                                                               0\n",
       "_unit_state                                                                           0\n",
       "_trusted_judgments                                                                    0\n",
       "_last_judgment_at                                                                   614\n",
       "which_of_these_sentiment_scores_does_the_above_image_fit_into_best                    0\n",
       "which_of_these_sentiment_scores_does_the_above_image_fit_into_best:confidence         0\n",
       "imageurl                                                                              0\n",
       "which_of_these_sentiment_scores_does_the_above_image_fit_into_best_gold           15000\n",
       "which_of_these_sentiment_scores_does_the_above_image_fit_into_best_gold_reason    15595\n",
       "dtype: int64"
      ]
     },
     "execution_count": 3,
     "metadata": {},
     "output_type": "execute_result"
    }
   ],
   "source": [
    "image_Senti.isnull().sum()"
   ]
  },
  {
   "cell_type": "code",
   "execution_count": 4,
   "id": "547b2e44",
   "metadata": {},
   "outputs": [],
   "source": [
    "df = image_Senti.copy()"
   ]
  },
  {
   "cell_type": "code",
   "execution_count": 5,
   "id": "97892333",
   "metadata": {},
   "outputs": [
    {
     "data": {
      "text/plain": [
       "1    8551\n",
       "0    7062\n",
       "Name: emotion, dtype: int64"
      ]
     },
     "execution_count": 5,
     "metadata": {},
     "output_type": "execute_result"
    }
   ],
   "source": [
    "# emotion : Positive = 1, Negative = 0\n",
    "df['emotion'] = df['which_of_these_sentiment_scores_does_the_above_image_fit_into_best'].apply(lambda x : 1 if x == 'Positive' else 0)\n",
    "df['emotion'].value_counts()"
   ]
  },
  {
   "cell_type": "code",
   "execution_count": 6,
   "id": "c4316693",
   "metadata": {},
   "outputs": [],
   "source": [
    "df.drop(['_golden', '_unit_state', '_trusted_judgments', '_last_judgment_at',\n",
    "        'which_of_these_sentiment_scores_does_the_above_image_fit_into_best_gold',\n",
    "        'which_of_these_sentiment_scores_does_the_above_image_fit_into_best_gold_reason',], axis = 1, inplace=True)"
   ]
  },
  {
   "cell_type": "code",
   "execution_count": 7,
   "id": "daf21d98",
   "metadata": {},
   "outputs": [],
   "source": [
    "df.to_csv('image_Sentiment.csv', index=False)"
   ]
  },
  {
   "cell_type": "code",
   "execution_count": 8,
   "id": "ffab37b6",
   "metadata": {},
   "outputs": [],
   "source": [
    "# https://github.com/alswhddh/ML-DL/blob/master/Computer%20Vision/%EC%9D%B4%EB%AF%B8%EC%A7%80%20%EC%A0%84%EC%B2%98%EB%A6%AC-%EB%9D%BC%EB%B2%A8%EB%A7%81.ipynb\n",
    "\n",
    "import urllib\n",
    "import cv2\n",
    "import numpy as np\n",
    "\n",
    "def url_to_image(url, readFlag=cv2.IMREAD_COLOR):\n",
    "    # download the image, convert it to a NumPy array, and then read\n",
    "    # it into OpenCV format\n",
    "    resp = urllib.request.urlopen(url)\n",
    "    image = np.asarray(bytearray(resp.read()), dtype=\"uint8\")\n",
    "    image = cv2.imdecode(image, cv2.IMREAD_COLOR)\n",
    "\n",
    "    # return the image\n",
    "    return image"
   ]
  },
  {
   "cell_type": "code",
   "execution_count": 9,
   "id": "1d56b6d7",
   "metadata": {},
   "outputs": [],
   "source": [
    "imgPre = df[[\"imageurl\",\"which_of_these_sentiment_scores_does_the_above_image_fit_into_best:confidence\"]]"
   ]
  },
  {
   "cell_type": "code",
   "execution_count": 10,
   "id": "f32cd201",
   "metadata": {},
   "outputs": [],
   "source": [
    "labels_np = list(df['imageurl'])"
   ]
  },
  {
   "cell_type": "markdown",
   "id": "7785b2b9",
   "metadata": {},
   "source": [
    "### csv url을 이미지 특정 경로로 다운로드 ###"
   ]
  },
  {
   "cell_type": "code",
   "execution_count": null,
   "id": "274ca48c",
   "metadata": {},
   "outputs": [],
   "source": [
    "# C:/test_image/ 경로를 만들어야 저장 가능합니다!!\n",
    "\n",
    "import urllib.request\n",
    "\n",
    "x = range(len(df['imageurl']))\n",
    "\n",
    "for n in x:\n",
    "    try:\n",
    "        def download_image(url, emot):\n",
    "            outpath = \"C:/test_image/\"\n",
    "            filename = str(emot)+\".\"+str(n)+\".jpg\"\n",
    "            urllib.request.urlretrieve(url,outpath + filename)  \n",
    "            \n",
    "        download_image(df['imageurl'][n], df['which_of_these_sentiment_scores_does_the_above_image_fit_into_best'][n])\n",
    "    except:\n",
    "        pass"
   ]
  },
  {
   "cell_type": "code",
   "execution_count": null,
   "id": "321edbb2",
   "metadata": {},
   "outputs": [],
   "source": []
  },
  {
   "cell_type": "code",
   "execution_count": null,
   "id": "206bc32c",
   "metadata": {},
   "outputs": [],
   "source": []
  },
  {
   "cell_type": "code",
   "execution_count": null,
   "id": "e03ef8c4",
   "metadata": {},
   "outputs": [],
   "source": []
  }
 ],
 "metadata": {
  "kernelspec": {
   "display_name": "Python 3",
   "language": "python",
   "name": "python3"
  },
  "language_info": {
   "codemirror_mode": {
    "name": "ipython",
    "version": 3
   },
   "file_extension": ".py",
   "mimetype": "text/x-python",
   "name": "python",
   "nbconvert_exporter": "python",
   "pygments_lexer": "ipython3",
   "version": "3.8.8"
  }
 },
 "nbformat": 4,
 "nbformat_minor": 5
}
